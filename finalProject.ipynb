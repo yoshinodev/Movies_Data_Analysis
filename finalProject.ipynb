{
  "nbformat": 4,
  "nbformat_minor": 0,
  "metadata": {
    "colab": {
      "provenance": [],
      "mount_file_id": "11HVNONlUZDWDz_mC-a2S8mJYEE-WkTKd",
      "authorship_tag": "ABX9TyMHRpew1CSiB9yJhew5yern",
      "include_colab_link": true
    },
    "kernelspec": {
      "name": "python3",
      "display_name": "Python 3"
    },
    "language_info": {
      "name": "python"
    }
  },
  "cells": [
    {
      "cell_type": "markdown",
      "metadata": {
        "id": "view-in-github",
        "colab_type": "text"
      },
      "source": [
        "<a href=\"https://colab.research.google.com/github/yoshinodev/Movies_Data_Analysis/blob/main/finalProject.ipynb\" target=\"_parent\"><img src=\"https://colab.research.google.com/assets/colab-badge.svg\" alt=\"Open In Colab\"/></a>"
      ]
    },
    {
      "cell_type": "markdown",
      "source": [
        "# **Projeto Final**"
      ],
      "metadata": {
        "id": "4GvnQoaFgVID"
      }
    },
    {
      "cell_type": "markdown",
      "source": [
        "## FASE 1 ***"
      ],
      "metadata": {
        "id": "lLbEDuJcWWko"
      }
    },
    {
      "cell_type": "markdown",
      "source": [
        "## Google drive"
      ],
      "metadata": {
        "id": "pCWFoyfygZw7"
      }
    },
    {
      "cell_type": "code",
      "execution_count": null,
      "metadata": {
        "colab": {
          "base_uri": "https://localhost:8080/"
        },
        "id": "v-WUdraYeT96",
        "outputId": "4337ccd8-ac91-41f9-ea30-0711ecf0d94c"
      },
      "outputs": [
        {
          "output_type": "stream",
          "name": "stdout",
          "text": [
            "Drive already mounted at /content/drive; to attempt to forcibly remount, call drive.mount(\"/content/drive\", force_remount=True).\n"
          ]
        }
      ],
      "source": [
        "# Access google drive to upload dataset\n",
        "from google.colab import drive\n",
        "\n",
        "drive.mount('/content/drive')\n",
        "\n",
        "#https://saturncloud.io/blog/how-to-read-csv-to-dataframe-in-google-colab/"
      ]
    },
    {
      "cell_type": "markdown",
      "source": [
        "## Libs"
      ],
      "metadata": {
        "id": "eHNrZrpggeMp"
      }
    },
    {
      "cell_type": "code",
      "source": [
        " # Import the necessary libs\n",
        "import pandas as pd\n",
        "import numpy as np\n",
        "import matplotlib.pyplot as plt"
      ],
      "metadata": {
        "id": "11qYvCq9ghJy"
      },
      "execution_count": null,
      "outputs": []
    },
    {
      "cell_type": "markdown",
      "source": [
        "## Upload and read dataset"
      ],
      "metadata": {
        "id": "pTnCbcDNigd0"
      }
    },
    {
      "cell_type": "code",
      "source": [
        "# Upload and read dataset, now stored in variable movies\n",
        "movies = pd.read_csv('/content/drive/MyDrive/10811_Final_Project/dataset/movies_metadata.csv', usecols=[\"id\", \"belongs_to_collection\", \"budget\", \"genres\", \"original_title\", \"production_companies\", \"release_date\", \"revenue\", \"runtime\", \"title\"], low_memory=False)"
      ],
      "metadata": {
        "id": "C3mB8zSXim_0"
      },
      "execution_count": 32,
      "outputs": []
    },
    {
      "cell_type": "markdown",
      "source": [
        "Nota: atenção confirmar na coluna genres se eliminou também os \"[]\" e se existe outra célula inválida. Nota2: genres terá que ser filtrado para conter apenas os nomes separado por vírgulas."
      ],
      "metadata": {
        "id": "ZIfCqoQQDwmP"
      }
    },
    {
      "cell_type": "markdown",
      "source": [],
      "metadata": {
        "id": "cqZFX8l1jEsc"
      }
    },
    {
      "cell_type": "markdown",
      "source": [
        "## Summary of dataset in analysis"
      ],
      "metadata": {
        "id": "QE8rkoloj0Yw"
      }
    },
    {
      "cell_type": "code",
      "source": [
        "# movies.info() will show a concise summary of the dataset\n",
        "movies.info()"
      ],
      "metadata": {
        "colab": {
          "base_uri": "https://localhost:8080/"
        },
        "id": "keLJSNhFkARi",
        "outputId": "6f07c4c6-5c8f-4539-96d6-08c90848569c"
      },
      "execution_count": 33,
      "outputs": [
        {
          "output_type": "stream",
          "name": "stdout",
          "text": [
            "<class 'pandas.core.frame.DataFrame'>\n",
            "RangeIndex: 45466 entries, 0 to 45465\n",
            "Data columns (total 10 columns):\n",
            " #   Column                 Non-Null Count  Dtype  \n",
            "---  ------                 --------------  -----  \n",
            " 0   belongs_to_collection  4494 non-null   object \n",
            " 1   budget                 45466 non-null  object \n",
            " 2   genres                 45466 non-null  object \n",
            " 3   id                     45466 non-null  object \n",
            " 4   original_title         45466 non-null  object \n",
            " 5   production_companies   45463 non-null  object \n",
            " 6   release_date           45379 non-null  object \n",
            " 7   revenue                45460 non-null  float64\n",
            " 8   runtime                45203 non-null  float64\n",
            " 9   title                  45460 non-null  object \n",
            "dtypes: float64(2), object(8)\n",
            "memory usage: 3.5+ MB\n"
          ]
        }
      ]
    },
    {
      "cell_type": "markdown",
      "source": [
        "## Dataset headings and first 5 rows"
      ],
      "metadata": {
        "id": "qfqA5yBMkfBj"
      }
    },
    {
      "cell_type": "code",
      "source": [
        "# method head used to quickly check the data's structure\n",
        "movies.head"
      ],
      "metadata": {
        "id": "JzVccklfkpUH"
      },
      "execution_count": 34,
      "outputs": []
    },
    {
      "cell_type": "markdown",
      "source": [
        "## Check how many null values are"
      ],
      "metadata": {
        "id": "DJ-a_5mnmARn"
      }
    },
    {
      "cell_type": "code",
      "source": [
        "movies.isnull().sum()"
      ],
      "metadata": {
        "colab": {
          "base_uri": "https://localhost:8080/"
        },
        "id": "mtAJrEz97rbK",
        "outputId": "9a6c3119-c0d0-4613-b81c-e7b593e918c3"
      },
      "execution_count": 35,
      "outputs": [
        {
          "output_type": "execute_result",
          "data": {
            "text/plain": [
              "belongs_to_collection    40972\n",
              "budget                       0\n",
              "genres                       0\n",
              "id                           0\n",
              "original_title               0\n",
              "production_companies         3\n",
              "release_date                87\n",
              "revenue                      6\n",
              "runtime                    263\n",
              "title                        6\n",
              "dtype: int64"
            ]
          },
          "metadata": {},
          "execution_count": 35
        }
      ]
    },
    {
      "cell_type": "markdown",
      "source": [
        "## Remove null values"
      ],
      "metadata": {
        "id": "s2Jnp9q7PDgZ"
      }
    },
    {
      "cell_type": "code",
      "source": [
        "# Remove null values from the dataset with the method dropna()\n",
        "movies = movies.dropna()"
      ],
      "metadata": {
        "id": "7BlfrCE1PHcD"
      },
      "execution_count": 36,
      "outputs": []
    },
    {
      "cell_type": "markdown",
      "source": [
        "## Check if the nulls were correctly removed from the dataset"
      ],
      "metadata": {
        "id": "-wBjCQFfPftO"
      }
    },
    {
      "cell_type": "code",
      "source": [
        "movies.isnull().sum()"
      ],
      "metadata": {
        "colab": {
          "base_uri": "https://localhost:8080/"
        },
        "id": "BbW-lbiiPIZs",
        "outputId": "64fef10f-fd03-4b1a-b7be-d77abdc07f9f"
      },
      "execution_count": 37,
      "outputs": [
        {
          "output_type": "execute_result",
          "data": {
            "text/plain": [
              "belongs_to_collection    0\n",
              "budget                   0\n",
              "genres                   0\n",
              "id                       0\n",
              "original_title           0\n",
              "production_companies     0\n",
              "release_date             0\n",
              "revenue                  0\n",
              "runtime                  0\n",
              "title                    0\n",
              "dtype: int64"
            ]
          },
          "metadata": {},
          "execution_count": 37
        }
      ]
    },
    {
      "cell_type": "markdown",
      "source": [
        "## Check the data types from the dataset"
      ],
      "metadata": {
        "id": "pP7vZc_ePrSQ"
      }
    },
    {
      "cell_type": "code",
      "source": [
        "movies.dtypes"
      ],
      "metadata": {
        "colab": {
          "base_uri": "https://localhost:8080/"
        },
        "id": "Qn5ExMKSP0dZ",
        "outputId": "428d1086-6d2e-4e99-a9e3-134062a5a1e9"
      },
      "execution_count": 38,
      "outputs": [
        {
          "output_type": "execute_result",
          "data": {
            "text/plain": [
              "belongs_to_collection     object\n",
              "budget                    object\n",
              "genres                    object\n",
              "id                        object\n",
              "original_title            object\n",
              "production_companies      object\n",
              "release_date              object\n",
              "revenue                  float64\n",
              "runtime                  float64\n",
              "title                     object\n",
              "dtype: object"
            ]
          },
          "metadata": {},
          "execution_count": 38
        }
      ]
    },
    {
      "cell_type": "markdown",
      "source": [
        "## Check if there's any duplicates"
      ],
      "metadata": {
        "id": "SF0NJRitSKss"
      }
    },
    {
      "cell_type": "code",
      "source": [
        "# Show the sum of how many duplicates are\n",
        "movies.duplicated().sum()"
      ],
      "metadata": {
        "colab": {
          "base_uri": "https://localhost:8080/"
        },
        "id": "oh9yYansSZOP",
        "outputId": "146003f2-fb2f-4f4d-ebbb-2dfe218a3a02"
      },
      "execution_count": 41,
      "outputs": [
        {
          "output_type": "execute_result",
          "data": {
            "text/plain": [
              "0"
            ]
          },
          "metadata": {},
          "execution_count": 41
        }
      ]
    },
    {
      "cell_type": "markdown",
      "source": [
        "movies = movies.drop_duplicates()\n",
        "movies = movies.reset_index(drop=True)\n",
        "movies.shape\n",
        "movies = movies.rename(columns={\"id\":\"movieId\"})"
      ],
      "metadata": {
        "id": "lt62jyY7Sp9e"
      }
    },
    {
      "cell_type": "markdown",
      "source": [
        "## Remove duplicates"
      ],
      "metadata": {
        "id": "t_aZUMFoSskc"
      }
    },
    {
      "cell_type": "code",
      "source": [
        "movies = movies.drop_duplicates()"
      ],
      "metadata": {
        "id": "vK2lWvDUTbaX"
      },
      "execution_count": 42,
      "outputs": []
    },
    {
      "cell_type": "markdown",
      "source": [
        "## Check dataset after initial cleaning"
      ],
      "metadata": {
        "id": "TYIpYmotT9RQ"
      }
    },
    {
      "cell_type": "code",
      "source": [
        "movies.shape"
      ],
      "metadata": {
        "colab": {
          "base_uri": "https://localhost:8080/"
        },
        "id": "2mCY2QduVFm0",
        "outputId": "0af6e35e-6ae1-4e8a-9021-8846828c9d81"
      },
      "execution_count": 43,
      "outputs": [
        {
          "output_type": "execute_result",
          "data": {
            "text/plain": [
              "(4478, 10)"
            ]
          },
          "metadata": {},
          "execution_count": 43
        }
      ]
    },
    {
      "cell_type": "markdown",
      "source": [
        "NOTA: FALTA LIMPAR AS COLUNAS ACIMA MENCIONADAS NOS COMENTÁRIOS E CONVERTER O TIPO DE DADOS"
      ],
      "metadata": {
        "id": "txgPoruBV3Td"
      }
    },
    {
      "cell_type": "markdown",
      "source": [
        "# movies = movies.rename(columns={\"id\":\"movieId\", \"*verificar se mais alguma coluna precisa de ser renomeada\"})"
      ],
      "metadata": {
        "id": "wFgRfHwEVlV1"
      }
    },
    {
      "cell_type": "markdown",
      "source": [
        "## FASE 1.2 TRANSFORMAÇÃO ***"
      ],
      "metadata": {
        "id": "UmRMFEvjWljD"
      }
    },
    {
      "cell_type": "markdown",
      "source": [
        "## FASE 2 - Estatística descritiva"
      ],
      "metadata": {
        "id": "nF7QOxK0XHPD"
      }
    },
    {
      "cell_type": "code",
      "source": [
        "movies.describe()"
      ],
      "metadata": {
        "colab": {
          "base_uri": "https://localhost:8080/",
          "height": 300
        },
        "id": "dxUhi23XW7uh",
        "outputId": "43f0f890-5d81-4af3-b036-6f94a46c1364"
      },
      "execution_count": 44,
      "outputs": [
        {
          "output_type": "execute_result",
          "data": {
            "text/plain": [
              "            revenue      runtime\n",
              "count  4.478000e+03  4478.000000\n",
              "mean   5.473438e+07    95.078607\n",
              "std    1.644054e+08    29.375863\n",
              "min    0.000000e+00     0.000000\n",
              "25%    0.000000e+00    85.000000\n",
              "50%    0.000000e+00    94.000000\n",
              "75%    1.611835e+07   106.000000\n",
              "max    2.787965e+09   476.000000"
            ],
            "text/html": [
              "\n",
              "  <div id=\"df-3b9b02e4-eae1-4fdd-9402-b9c21c318c34\" class=\"colab-df-container\">\n",
              "    <div>\n",
              "<style scoped>\n",
              "    .dataframe tbody tr th:only-of-type {\n",
              "        vertical-align: middle;\n",
              "    }\n",
              "\n",
              "    .dataframe tbody tr th {\n",
              "        vertical-align: top;\n",
              "    }\n",
              "\n",
              "    .dataframe thead th {\n",
              "        text-align: right;\n",
              "    }\n",
              "</style>\n",
              "<table border=\"1\" class=\"dataframe\">\n",
              "  <thead>\n",
              "    <tr style=\"text-align: right;\">\n",
              "      <th></th>\n",
              "      <th>revenue</th>\n",
              "      <th>runtime</th>\n",
              "    </tr>\n",
              "  </thead>\n",
              "  <tbody>\n",
              "    <tr>\n",
              "      <th>count</th>\n",
              "      <td>4.478000e+03</td>\n",
              "      <td>4478.000000</td>\n",
              "    </tr>\n",
              "    <tr>\n",
              "      <th>mean</th>\n",
              "      <td>5.473438e+07</td>\n",
              "      <td>95.078607</td>\n",
              "    </tr>\n",
              "    <tr>\n",
              "      <th>std</th>\n",
              "      <td>1.644054e+08</td>\n",
              "      <td>29.375863</td>\n",
              "    </tr>\n",
              "    <tr>\n",
              "      <th>min</th>\n",
              "      <td>0.000000e+00</td>\n",
              "      <td>0.000000</td>\n",
              "    </tr>\n",
              "    <tr>\n",
              "      <th>25%</th>\n",
              "      <td>0.000000e+00</td>\n",
              "      <td>85.000000</td>\n",
              "    </tr>\n",
              "    <tr>\n",
              "      <th>50%</th>\n",
              "      <td>0.000000e+00</td>\n",
              "      <td>94.000000</td>\n",
              "    </tr>\n",
              "    <tr>\n",
              "      <th>75%</th>\n",
              "      <td>1.611835e+07</td>\n",
              "      <td>106.000000</td>\n",
              "    </tr>\n",
              "    <tr>\n",
              "      <th>max</th>\n",
              "      <td>2.787965e+09</td>\n",
              "      <td>476.000000</td>\n",
              "    </tr>\n",
              "  </tbody>\n",
              "</table>\n",
              "</div>\n",
              "    <div class=\"colab-df-buttons\">\n",
              "\n",
              "  <div class=\"colab-df-container\">\n",
              "    <button class=\"colab-df-convert\" onclick=\"convertToInteractive('df-3b9b02e4-eae1-4fdd-9402-b9c21c318c34')\"\n",
              "            title=\"Convert this dataframe to an interactive table.\"\n",
              "            style=\"display:none;\">\n",
              "\n",
              "  <svg xmlns=\"http://www.w3.org/2000/svg\" height=\"24px\" viewBox=\"0 -960 960 960\">\n",
              "    <path d=\"M120-120v-720h720v720H120Zm60-500h600v-160H180v160Zm220 220h160v-160H400v160Zm0 220h160v-160H400v160ZM180-400h160v-160H180v160Zm440 0h160v-160H620v160ZM180-180h160v-160H180v160Zm440 0h160v-160H620v160Z\"/>\n",
              "  </svg>\n",
              "    </button>\n",
              "\n",
              "  <style>\n",
              "    .colab-df-container {\n",
              "      display:flex;\n",
              "      gap: 12px;\n",
              "    }\n",
              "\n",
              "    .colab-df-convert {\n",
              "      background-color: #E8F0FE;\n",
              "      border: none;\n",
              "      border-radius: 50%;\n",
              "      cursor: pointer;\n",
              "      display: none;\n",
              "      fill: #1967D2;\n",
              "      height: 32px;\n",
              "      padding: 0 0 0 0;\n",
              "      width: 32px;\n",
              "    }\n",
              "\n",
              "    .colab-df-convert:hover {\n",
              "      background-color: #E2EBFA;\n",
              "      box-shadow: 0px 1px 2px rgba(60, 64, 67, 0.3), 0px 1px 3px 1px rgba(60, 64, 67, 0.15);\n",
              "      fill: #174EA6;\n",
              "    }\n",
              "\n",
              "    .colab-df-buttons div {\n",
              "      margin-bottom: 4px;\n",
              "    }\n",
              "\n",
              "    [theme=dark] .colab-df-convert {\n",
              "      background-color: #3B4455;\n",
              "      fill: #D2E3FC;\n",
              "    }\n",
              "\n",
              "    [theme=dark] .colab-df-convert:hover {\n",
              "      background-color: #434B5C;\n",
              "      box-shadow: 0px 1px 3px 1px rgba(0, 0, 0, 0.15);\n",
              "      filter: drop-shadow(0px 1px 2px rgba(0, 0, 0, 0.3));\n",
              "      fill: #FFFFFF;\n",
              "    }\n",
              "  </style>\n",
              "\n",
              "    <script>\n",
              "      const buttonEl =\n",
              "        document.querySelector('#df-3b9b02e4-eae1-4fdd-9402-b9c21c318c34 button.colab-df-convert');\n",
              "      buttonEl.style.display =\n",
              "        google.colab.kernel.accessAllowed ? 'block' : 'none';\n",
              "\n",
              "      async function convertToInteractive(key) {\n",
              "        const element = document.querySelector('#df-3b9b02e4-eae1-4fdd-9402-b9c21c318c34');\n",
              "        const dataTable =\n",
              "          await google.colab.kernel.invokeFunction('convertToInteractive',\n",
              "                                                    [key], {});\n",
              "        if (!dataTable) return;\n",
              "\n",
              "        const docLinkHtml = 'Like what you see? Visit the ' +\n",
              "          '<a target=\"_blank\" href=https://colab.research.google.com/notebooks/data_table.ipynb>data table notebook</a>'\n",
              "          + ' to learn more about interactive tables.';\n",
              "        element.innerHTML = '';\n",
              "        dataTable['output_type'] = 'display_data';\n",
              "        await google.colab.output.renderOutput(dataTable, element);\n",
              "        const docLink = document.createElement('div');\n",
              "        docLink.innerHTML = docLinkHtml;\n",
              "        element.appendChild(docLink);\n",
              "      }\n",
              "    </script>\n",
              "  </div>\n",
              "\n",
              "\n",
              "<div id=\"df-9e1bb4d5-36c5-40a5-9359-cf50cab6982a\">\n",
              "  <button class=\"colab-df-quickchart\" onclick=\"quickchart('df-9e1bb4d5-36c5-40a5-9359-cf50cab6982a')\"\n",
              "            title=\"Suggest charts\"\n",
              "            style=\"display:none;\">\n",
              "\n",
              "<svg xmlns=\"http://www.w3.org/2000/svg\" height=\"24px\"viewBox=\"0 0 24 24\"\n",
              "     width=\"24px\">\n",
              "    <g>\n",
              "        <path d=\"M19 3H5c-1.1 0-2 .9-2 2v14c0 1.1.9 2 2 2h14c1.1 0 2-.9 2-2V5c0-1.1-.9-2-2-2zM9 17H7v-7h2v7zm4 0h-2V7h2v10zm4 0h-2v-4h2v4z\"/>\n",
              "    </g>\n",
              "</svg>\n",
              "  </button>\n",
              "\n",
              "<style>\n",
              "  .colab-df-quickchart {\n",
              "      --bg-color: #E8F0FE;\n",
              "      --fill-color: #1967D2;\n",
              "      --hover-bg-color: #E2EBFA;\n",
              "      --hover-fill-color: #174EA6;\n",
              "      --disabled-fill-color: #AAA;\n",
              "      --disabled-bg-color: #DDD;\n",
              "  }\n",
              "\n",
              "  [theme=dark] .colab-df-quickchart {\n",
              "      --bg-color: #3B4455;\n",
              "      --fill-color: #D2E3FC;\n",
              "      --hover-bg-color: #434B5C;\n",
              "      --hover-fill-color: #FFFFFF;\n",
              "      --disabled-bg-color: #3B4455;\n",
              "      --disabled-fill-color: #666;\n",
              "  }\n",
              "\n",
              "  .colab-df-quickchart {\n",
              "    background-color: var(--bg-color);\n",
              "    border: none;\n",
              "    border-radius: 50%;\n",
              "    cursor: pointer;\n",
              "    display: none;\n",
              "    fill: var(--fill-color);\n",
              "    height: 32px;\n",
              "    padding: 0;\n",
              "    width: 32px;\n",
              "  }\n",
              "\n",
              "  .colab-df-quickchart:hover {\n",
              "    background-color: var(--hover-bg-color);\n",
              "    box-shadow: 0 1px 2px rgba(60, 64, 67, 0.3), 0 1px 3px 1px rgba(60, 64, 67, 0.15);\n",
              "    fill: var(--button-hover-fill-color);\n",
              "  }\n",
              "\n",
              "  .colab-df-quickchart-complete:disabled,\n",
              "  .colab-df-quickchart-complete:disabled:hover {\n",
              "    background-color: var(--disabled-bg-color);\n",
              "    fill: var(--disabled-fill-color);\n",
              "    box-shadow: none;\n",
              "  }\n",
              "\n",
              "  .colab-df-spinner {\n",
              "    border: 2px solid var(--fill-color);\n",
              "    border-color: transparent;\n",
              "    border-bottom-color: var(--fill-color);\n",
              "    animation:\n",
              "      spin 1s steps(1) infinite;\n",
              "  }\n",
              "\n",
              "  @keyframes spin {\n",
              "    0% {\n",
              "      border-color: transparent;\n",
              "      border-bottom-color: var(--fill-color);\n",
              "      border-left-color: var(--fill-color);\n",
              "    }\n",
              "    20% {\n",
              "      border-color: transparent;\n",
              "      border-left-color: var(--fill-color);\n",
              "      border-top-color: var(--fill-color);\n",
              "    }\n",
              "    30% {\n",
              "      border-color: transparent;\n",
              "      border-left-color: var(--fill-color);\n",
              "      border-top-color: var(--fill-color);\n",
              "      border-right-color: var(--fill-color);\n",
              "    }\n",
              "    40% {\n",
              "      border-color: transparent;\n",
              "      border-right-color: var(--fill-color);\n",
              "      border-top-color: var(--fill-color);\n",
              "    }\n",
              "    60% {\n",
              "      border-color: transparent;\n",
              "      border-right-color: var(--fill-color);\n",
              "    }\n",
              "    80% {\n",
              "      border-color: transparent;\n",
              "      border-right-color: var(--fill-color);\n",
              "      border-bottom-color: var(--fill-color);\n",
              "    }\n",
              "    90% {\n",
              "      border-color: transparent;\n",
              "      border-bottom-color: var(--fill-color);\n",
              "    }\n",
              "  }\n",
              "</style>\n",
              "\n",
              "  <script>\n",
              "    async function quickchart(key) {\n",
              "      const quickchartButtonEl =\n",
              "        document.querySelector('#' + key + ' button');\n",
              "      quickchartButtonEl.disabled = true;  // To prevent multiple clicks.\n",
              "      quickchartButtonEl.classList.add('colab-df-spinner');\n",
              "      try {\n",
              "        const charts = await google.colab.kernel.invokeFunction(\n",
              "            'suggestCharts', [key], {});\n",
              "      } catch (error) {\n",
              "        console.error('Error during call to suggestCharts:', error);\n",
              "      }\n",
              "      quickchartButtonEl.classList.remove('colab-df-spinner');\n",
              "      quickchartButtonEl.classList.add('colab-df-quickchart-complete');\n",
              "    }\n",
              "    (() => {\n",
              "      let quickchartButtonEl =\n",
              "        document.querySelector('#df-9e1bb4d5-36c5-40a5-9359-cf50cab6982a button');\n",
              "      quickchartButtonEl.style.display =\n",
              "        google.colab.kernel.accessAllowed ? 'block' : 'none';\n",
              "    })();\n",
              "  </script>\n",
              "</div>\n",
              "    </div>\n",
              "  </div>\n"
            ]
          },
          "metadata": {},
          "execution_count": 44
        }
      ]
    }
  ]
}